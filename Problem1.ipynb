{
 "cells": [
  {
   "cell_type": "code",
   "execution_count": 1,
   "id": "2acf79c4-fe4c-4ff9-b7ee-215da2a0ec2b",
   "metadata": {},
   "outputs": [],
   "source": [
    "import pandas as pd\n",
    "from sklearn.model_selection import train_test_split\n",
    "from sklearn.preprocessing import LabelEncoder\n",
    "\n",
    "# Load dataset\n",
    "data = pd.read_csv(\"C:\\\\Users\\\\nixon\\\\OneDrive\\\\Documents\\\\new pro\\\\Training.csv\")\n",
    "\n",
    "# Fill missing values for 'Vehicle Type'\n",
    "data['Vehicle Type'].fillna(data['Vehicle Type'].mode()[0], inplace=True)\n",
    "\n",
    "data['Delayed'] = data['Delayed'].map({'Yes': 1, 'No': 0})\n",
    "\n",
    "# Convert date columns to datetime\n",
    "data['Shipment Date'] = pd.to_datetime(data['Shipment Date'])\n",
    "data['Planned Delivery Date'] = pd.to_datetime(data['Planned Delivery Date'])\n",
    "data['Actual Delivery Date'] = pd.to_datetime(data['Actual Delivery Date'])\n",
    "\n",
    "# Create new features: Planned and Actual delivery duration\n",
    "data['Planned Duration'] = (data['Planned Delivery Date'] - data['Shipment Date']).dt.days\n",
    "data['Actual Duration'] = (data['Actual Delivery Date'] - data['Shipment Date']).dt.days\n",
    "\n",
    "# Drop unnecessary columns\n",
    "data = data.drop(columns=['Shipment ID', 'Shipment Date', 'Planned Delivery Date', 'Actual Delivery Date'])\n",
    "\n",
    "# Encode categorical features\n",
    "encoder = LabelEncoder()\n",
    "for col in ['Origin', 'Destination', 'Vehicle Type', 'Weather Conditions', 'Traffic Conditions']:\n",
    "    data[col] = encoder.fit_transform(data[col])\n",
    "\n",
    "# Split data into features and target\n",
    "X = data.drop(columns=['Delayed'])\n",
    "y = data['Delayed']\n",
    "\n",
    "# Split dataset into training and testing sets\n",
    "X_train, X_test, y_train, y_test = train_test_split(X, y, test_size=0.2, random_state=42)\n"
   ]
  },
  {
   "cell_type": "code",
   "execution_count": 2,
   "id": "0fb79895-2e21-4f1e-968c-f760cc214fd8",
   "metadata": {},
   "outputs": [
    {
     "data": {
      "text/html": [
       "<style>#sk-container-id-1 {color: black;background-color: white;}#sk-container-id-1 pre{padding: 0;}#sk-container-id-1 div.sk-toggleable {background-color: white;}#sk-container-id-1 label.sk-toggleable__label {cursor: pointer;display: block;width: 100%;margin-bottom: 0;padding: 0.3em;box-sizing: border-box;text-align: center;}#sk-container-id-1 label.sk-toggleable__label-arrow:before {content: \"▸\";float: left;margin-right: 0.25em;color: #696969;}#sk-container-id-1 label.sk-toggleable__label-arrow:hover:before {color: black;}#sk-container-id-1 div.sk-estimator:hover label.sk-toggleable__label-arrow:before {color: black;}#sk-container-id-1 div.sk-toggleable__content {max-height: 0;max-width: 0;overflow: hidden;text-align: left;background-color: #f0f8ff;}#sk-container-id-1 div.sk-toggleable__content pre {margin: 0.2em;color: black;border-radius: 0.25em;background-color: #f0f8ff;}#sk-container-id-1 input.sk-toggleable__control:checked~div.sk-toggleable__content {max-height: 200px;max-width: 100%;overflow: auto;}#sk-container-id-1 input.sk-toggleable__control:checked~label.sk-toggleable__label-arrow:before {content: \"▾\";}#sk-container-id-1 div.sk-estimator input.sk-toggleable__control:checked~label.sk-toggleable__label {background-color: #d4ebff;}#sk-container-id-1 div.sk-label input.sk-toggleable__control:checked~label.sk-toggleable__label {background-color: #d4ebff;}#sk-container-id-1 input.sk-hidden--visually {border: 0;clip: rect(1px 1px 1px 1px);clip: rect(1px, 1px, 1px, 1px);height: 1px;margin: -1px;overflow: hidden;padding: 0;position: absolute;width: 1px;}#sk-container-id-1 div.sk-estimator {font-family: monospace;background-color: #f0f8ff;border: 1px dotted black;border-radius: 0.25em;box-sizing: border-box;margin-bottom: 0.5em;}#sk-container-id-1 div.sk-estimator:hover {background-color: #d4ebff;}#sk-container-id-1 div.sk-parallel-item::after {content: \"\";width: 100%;border-bottom: 1px solid gray;flex-grow: 1;}#sk-container-id-1 div.sk-label:hover label.sk-toggleable__label {background-color: #d4ebff;}#sk-container-id-1 div.sk-serial::before {content: \"\";position: absolute;border-left: 1px solid gray;box-sizing: border-box;top: 0;bottom: 0;left: 50%;z-index: 0;}#sk-container-id-1 div.sk-serial {display: flex;flex-direction: column;align-items: center;background-color: white;padding-right: 0.2em;padding-left: 0.2em;position: relative;}#sk-container-id-1 div.sk-item {position: relative;z-index: 1;}#sk-container-id-1 div.sk-parallel {display: flex;align-items: stretch;justify-content: center;background-color: white;position: relative;}#sk-container-id-1 div.sk-item::before, #sk-container-id-1 div.sk-parallel-item::before {content: \"\";position: absolute;border-left: 1px solid gray;box-sizing: border-box;top: 0;bottom: 0;left: 50%;z-index: -1;}#sk-container-id-1 div.sk-parallel-item {display: flex;flex-direction: column;z-index: 1;position: relative;background-color: white;}#sk-container-id-1 div.sk-parallel-item:first-child::after {align-self: flex-end;width: 50%;}#sk-container-id-1 div.sk-parallel-item:last-child::after {align-self: flex-start;width: 50%;}#sk-container-id-1 div.sk-parallel-item:only-child::after {width: 0;}#sk-container-id-1 div.sk-dashed-wrapped {border: 1px dashed gray;margin: 0 0.4em 0.5em 0.4em;box-sizing: border-box;padding-bottom: 0.4em;background-color: white;}#sk-container-id-1 div.sk-label label {font-family: monospace;font-weight: bold;display: inline-block;line-height: 1.2em;}#sk-container-id-1 div.sk-label-container {text-align: center;}#sk-container-id-1 div.sk-container {/* jupyter's `normalize.less` sets `[hidden] { display: none; }` but bootstrap.min.css set `[hidden] { display: none !important; }` so we also need the `!important` here to be able to override the default hidden behavior on the sphinx rendered scikit-learn.org. See: https://github.com/scikit-learn/scikit-learn/issues/21755 */display: inline-block !important;position: relative;}#sk-container-id-1 div.sk-text-repr-fallback {display: none;}</style><div id=\"sk-container-id-1\" class=\"sk-top-container\"><div class=\"sk-text-repr-fallback\"><pre>RandomForestClassifier(random_state=42)</pre><b>In a Jupyter environment, please rerun this cell to show the HTML representation or trust the notebook. <br />On GitHub, the HTML representation is unable to render, please try loading this page with nbviewer.org.</b></div><div class=\"sk-container\" hidden><div class=\"sk-item\"><div class=\"sk-estimator sk-toggleable\"><input class=\"sk-toggleable__control sk-hidden--visually\" id=\"sk-estimator-id-1\" type=\"checkbox\" checked><label for=\"sk-estimator-id-1\" class=\"sk-toggleable__label sk-toggleable__label-arrow\">RandomForestClassifier</label><div class=\"sk-toggleable__content\"><pre>RandomForestClassifier(random_state=42)</pre></div></div></div></div></div>"
      ],
      "text/plain": [
       "RandomForestClassifier(random_state=42)"
      ]
     },
     "execution_count": 2,
     "metadata": {},
     "output_type": "execute_result"
    }
   ],
   "source": [
    "from sklearn.ensemble import RandomForestClassifier\n",
    "from sklearn.linear_model import LogisticRegression\n",
    "from sklearn.tree import DecisionTreeClassifier\n",
    "\n",
    "# Train Logistic Regression\n",
    "lr = LogisticRegression(max_iter=1000)\n",
    "lr.fit(X_train, y_train)\n",
    "\n",
    "dt = DecisionTreeClassifier(random_state=42)\n",
    "dt.fit(X_train, y_train)\n",
    "\n",
    "rf = RandomForestClassifier(random_state=42)\n",
    "rf.fit(X_train, y_train)\n"
   ]
  },
  {
   "cell_type": "code",
   "execution_count": 3,
   "id": "8f7583db-1586-4b41-8fd9-95ea08e5f492",
   "metadata": {},
   "outputs": [
    {
     "name": "stdout",
     "output_type": "stream",
     "text": [
      "Logistic Regression Report:\n",
      "               precision    recall  f1-score   support\n",
      "\n",
      "           0       0.99      0.99      0.99      1059\n",
      "           1       1.00      0.99      1.00      2941\n",
      "\n",
      "    accuracy                           0.99      4000\n",
      "   macro avg       0.99      0.99      0.99      4000\n",
      "weighted avg       0.99      0.99      0.99      4000\n",
      "\n",
      "Decision Tree Report:\n",
      "               precision    recall  f1-score   support\n",
      "\n",
      "           0       1.00      1.00      1.00      1059\n",
      "           1       1.00      1.00      1.00      2941\n",
      "\n",
      "    accuracy                           1.00      4000\n",
      "   macro avg       1.00      1.00      1.00      4000\n",
      "weighted avg       1.00      1.00      1.00      4000\n",
      "\n",
      "Random Forest Report:\n",
      "               precision    recall  f1-score   support\n",
      "\n",
      "           0       1.00      1.00      1.00      1059\n",
      "           1       1.00      1.00      1.00      2941\n",
      "\n",
      "    accuracy                           1.00      4000\n",
      "   macro avg       1.00      1.00      1.00      4000\n",
      "weighted avg       1.00      1.00      1.00      4000\n",
      "\n"
     ]
    }
   ],
   "source": [
    "from sklearn.metrics import classification_report, accuracy_score\n",
    "\n",
    "# Evaluate Logistic Regression\n",
    "lr_preds = lr.predict(X_test)\n",
    "print(\"Logistic Regression Report:\\n\", classification_report(y_test, lr_preds))\n",
    "\n",
    "# Evaluate Decision Tree\n",
    "dt_preds = dt.predict(X_test)\n",
    "print(\"Decision Tree Report:\\n\", classification_report(y_test, dt_preds))\n",
    "\n",
    "# Evaluate Random Forest\n",
    "rf_preds = rf.predict(X_test)\n",
    "print(\"Random Forest Report:\\n\", classification_report(y_test, rf_preds))\n"
   ]
  },
  {
   "cell_type": "code",
   "execution_count": 5,
   "id": "44bd0aed-05b0-4883-9d3f-8d6a26698076",
   "metadata": {},
   "outputs": [
    {
     "name": "stdout",
     "output_type": "stream",
     "text": [
      "Current Directory: C:\\Users\\nixon\n"
     ]
    }
   ],
   "source": [
    "import os\n",
    "\n",
    "# Get the current working directory\n",
    "print(\"Current Directory:\", os.getcwd())\n"
   ]
  },
  {
   "cell_type": "code",
   "execution_count": 6,
   "id": "833cf1ec-7291-442a-ac74-363d90d62ebe",
   "metadata": {},
   "outputs": [
    {
     "name": "stdout",
     "output_type": "stream",
     "text": [
      "Model saved successfully in the current directory.\n"
     ]
    }
   ],
   "source": [
    "import pickle\n",
    "\n",
    "# Save the Random Forest model\n",
    "with open('shipment_rf_model.pkl', 'wb') as f:\n",
    "    pickle.dump(rf, f)\n",
    "\n",
    "print(\"Model saved successfully in the current directory.\")\n"
   ]
  },
  {
   "cell_type": "code",
   "execution_count": 7,
   "id": "54d34d1d-9f67-411f-8b2d-58062c8f5096",
   "metadata": {},
   "outputs": [
    {
     "name": "stdout",
     "output_type": "stream",
     "text": [
      "Model saved successfully in models\\shipment_rf_model.pkl\n"
     ]
    }
   ],
   "source": [
    "import os\n",
    "import pickle\n",
    "\n",
    "# Directory and file path\n",
    "directory = \"models\"\n",
    "file_name = \"shipment_rf_model.pkl\"\n",
    "\n",
    "# Create the directory if it doesn't exist\n",
    "if not os.path.exists(directory):\n",
    "    os.makedirs(directory)\n",
    "\n",
    "# Save the model\n",
    "with open(os.path.join(directory, file_name), 'wb') as f:\n",
    "    pickle.dump(rf, f)\n",
    "\n",
    "print(f\"Model saved successfully in {os.path.join(directory, file_name)}\")\n"
   ]
  },
  {
   "cell_type": "code",
   "execution_count": 8,
   "id": "416930cf-82c4-4ab1-a0b6-6b2c5334f939",
   "metadata": {},
   "outputs": [
    {
     "name": "stdout",
     "output_type": "stream",
     "text": [
      "Files in the current directory: ['.anaconda', '.android', '.angular-config.json', '.arduinoIDE', '.boto', '.cache', '.conda', '.condarc', '.continuum', '.docker', '.gradle', '.idlerc', '.ipynb_checkpoints', '.ipython', '.jupyter', '.kettle', '.m2', '.matplotlib', '.ms-ad', '.nbi', '.node_repl_history', '.packettracer', '.pentaho', '.schemaWorkbench', '.swt', '.thumbnails', '.VirtualBox', '.vscode', 'anaconda3', 'AngularDemo', 'AppData', 'Application Data', 'Cisco Packet Tracer 7.3.0', 'Contacts', 'Cookies', 'Desktop', 'Documents', 'Downloads', 'downloadtemp', 'e-wallet', 'Favorites', 'Google', 'hack.doc', 'hack.ipynb', 'label_encoders.pkl', 'Links', 'Local Settings', 'mobilenet_v2.tar.gz', 'models', 'Music', 'My Documents', 'NetHood', 'NTUSER.DAT', 'ntuser.dat.LOG1', 'ntuser.dat.LOG2', 'NTUSER.DAT{0dbca443-0fbb-11ef-b39d-b1f3a56846fa}.TM.blf', 'NTUSER.DAT{0dbca443-0fbb-11ef-b39d-b1f3a56846fa}.TMContainer00000000000000000001.regtrans-ms', 'NTUSER.DAT{0dbca443-0fbb-11ef-b39d-b1f3a56846fa}.TMContainer00000000000000000002.regtrans-ms', 'ntuser.ini', 'OneDrive', 'Pictures', 'Postman', 'PrintHood', 'random_forest_model.pkl', 'Recent', 'rf_model.pkl', 'Saved Games', 'Searches', 'SendTo', 'shipment_rf_model.pkl', 'Start Menu', 'Templates', 'Untitled.ipynb', 'untitled.txt', 'Untitled1.ipynb', 'Untitled10.ipynb', 'Untitled11.ipynb', 'Untitled12.ipynb', 'Untitled13.ipynb', 'Untitled14.ipynb', 'Untitled2.ipynb', 'Untitled3.ipynb', 'Untitled4.ipynb', 'Untitled5.ipynb', 'Untitled6.ipynb', 'Untitled7.ipynb', 'Untitled8.ipynb', 'Untitled9.ipynb', 'Videos', 'VirtualBox VMs', 'wekafiles']\n",
      "Files in 'models' directory: ['shipment_rf_model.pkl']\n"
     ]
    }
   ],
   "source": [
    "# List files in the current directory\n",
    "print(\"Files in the current directory:\", os.listdir())\n",
    "\n",
    "# List files in the models directory\n",
    "if os.path.exists('models'):\n",
    "    print(\"Files in 'models' directory:\", os.listdir('models'))\n"
   ]
  },
  {
   "cell_type": "code",
   "execution_count": 9,
   "id": "8ec28ffe-ab4c-4255-875a-5d01543acedc",
   "metadata": {},
   "outputs": [
    {
     "name": "stdout",
     "output_type": "stream",
     "text": [
      "Collecting fastapi\n",
      "  Downloading fastapi-0.115.6-py3-none-any.whl.metadata (27 kB)\n",
      "Collecting uvicorn\n",
      "  Downloading uvicorn-0.34.0-py3-none-any.whl.metadata (6.5 kB)\n",
      "Requirement already satisfied: nest-asyncio in c:\\users\\nixon\\anaconda3\\lib\\site-packages (1.6.0)\n",
      "Collecting starlette<0.42.0,>=0.40.0 (from fastapi)\n",
      "  Downloading starlette-0.41.3-py3-none-any.whl.metadata (6.0 kB)\n",
      "Requirement already satisfied: pydantic!=1.8,!=1.8.1,!=2.0.0,!=2.0.1,!=2.1.0,<3.0.0,>=1.7.4 in c:\\users\\nixon\\anaconda3\\lib\\site-packages (from fastapi) (1.10.12)\n",
      "Requirement already satisfied: typing-extensions>=4.8.0 in c:\\users\\nixon\\anaconda3\\lib\\site-packages (from fastapi) (4.9.0)\n",
      "Requirement already satisfied: click>=7.0 in c:\\users\\nixon\\anaconda3\\lib\\site-packages (from uvicorn) (8.1.7)\n",
      "Collecting h11>=0.8 (from uvicorn)\n",
      "  Downloading h11-0.14.0-py3-none-any.whl.metadata (8.2 kB)\n",
      "Requirement already satisfied: colorama in c:\\users\\nixon\\anaconda3\\lib\\site-packages (from click>=7.0->uvicorn) (0.4.6)\n",
      "Requirement already satisfied: anyio<5,>=3.4.0 in c:\\users\\nixon\\anaconda3\\lib\\site-packages (from starlette<0.42.0,>=0.40.0->fastapi) (4.2.0)\n",
      "Requirement already satisfied: idna>=2.8 in c:\\users\\nixon\\anaconda3\\lib\\site-packages (from anyio<5,>=3.4.0->starlette<0.42.0,>=0.40.0->fastapi) (3.4)\n",
      "Requirement already satisfied: sniffio>=1.1 in c:\\users\\nixon\\anaconda3\\lib\\site-packages (from anyio<5,>=3.4.0->starlette<0.42.0,>=0.40.0->fastapi) (1.3.0)\n",
      "Downloading fastapi-0.115.6-py3-none-any.whl (94 kB)\n",
      "   ---------------------------------------- 0.0/94.8 kB ? eta -:--:--\n",
      "   ---- ----------------------------------- 10.2/94.8 kB ? eta -:--:--\n",
      "   ----------------- ---------------------- 41.0/94.8 kB 653.6 kB/s eta 0:00:01\n",
      "   ---------------------------------------- 94.8/94.8 kB 1.1 MB/s eta 0:00:00\n",
      "Downloading uvicorn-0.34.0-py3-none-any.whl (62 kB)\n",
      "   ---------------------------------------- 0.0/62.3 kB ? eta -:--:--\n",
      "   ---------------------------------------- 62.3/62.3 kB 1.7 MB/s eta 0:00:00\n",
      "Downloading h11-0.14.0-py3-none-any.whl (58 kB)\n",
      "   ---------------------------------------- 0.0/58.3 kB ? eta -:--:--\n",
      "   ---------------------------------------- 58.3/58.3 kB 1.5 MB/s eta 0:00:00\n",
      "Downloading starlette-0.41.3-py3-none-any.whl (73 kB)\n",
      "   ---------------------------------------- 0.0/73.2 kB ? eta -:--:--\n",
      "   ---------------------------------------- 73.2/73.2 kB 3.9 MB/s eta 0:00:00\n",
      "Installing collected packages: h11, uvicorn, starlette, fastapi\n",
      "Successfully installed fastapi-0.115.6 h11-0.14.0 starlette-0.41.3 uvicorn-0.34.0\n",
      "Note: you may need to restart the kernel to use updated packages.\n"
     ]
    }
   ],
   "source": [
    "pip install fastapi uvicorn nest-asyncio\n"
   ]
  },
  {
   "cell_type": "code",
   "execution_count": 10,
   "id": "5602484d-47c8-49c7-96e0-5a7321e35e6f",
   "metadata": {},
   "outputs": [],
   "source": [
    "from fastapi import FastAPI\n",
    "from pydantic import BaseModel\n",
    "import pickle\n",
    "import numpy as np\n",
    "import nest_asyncio\n",
    "import uvicorn\n",
    "# Load the saved Random Forest model\n",
    "model_path = 'shipment_rf_model.pkl'  # Ensure this path matches where you saved the model\n",
    "with open(model_path, 'rb') as f:\n",
    "    model = pickle.load(f)\n",
    "\n"
   ]
  },
  {
   "cell_type": "code",
   "execution_count": 27,
   "id": "b5a1364b-6694-4362-8367-94a885e4f581",
   "metadata": {},
   "outputs": [
    {
     "name": "stderr",
     "output_type": "stream",
     "text": [
      "INFO:     Started server process [17308]\n",
      "INFO:     Waiting for application startup.\n",
      "INFO:     Application startup complete.\n",
      "ERROR:    [Errno 10048] error while attempting to bind on address ('127.0.0.1', 8000): only one usage of each socket address (protocol/network address/port) is normally permitted\n",
      "INFO:     Waiting for application shutdown.\n",
      "INFO:     Application shutdown complete.\n"
     ]
    }
   ],
   "source": [
    "import nest_asyncio\n",
    "import uvicorn\n",
    "from fastapi import FastAPI\n",
    "from pydantic import BaseModel\n",
    "import requests\n",
    "\n",
    "# Allow FastAPI to run in Jupyter Notebook\n",
    "nest_asyncio.apply()\n",
    "\n",
    "# Create FastAPI instance\n",
    "app = FastAPI()\n",
    "\n",
    "# Define the request body model\n",
    "class PredictionRequest(BaseModel):\n",
    "    origin: int\n",
    "    destination: int\n",
    "    vehicle_type: int\n",
    "    distance: int\n",
    "    weather_conditions: int\n",
    "    traffic_conditions: int\n",
    "    planned_duration: int\n",
    "    actual_duration: int\n",
    "\n",
    "# Define the /predict endpoint\n",
    "@app.post(\"/predict\")\n",
    "def predict(payload: PredictionRequest):\n",
    "    # Handle prediction logic (this is just an example)\n",
    "    prediction = {\n",
    "        \"estimated_duration\": payload.planned_duration + (payload.actual_duration - payload.planned_duration) * 0.5\n",
    "    }\n",
    "    return prediction\n",
    "\n",
    "# Run FastAPI server (in the background)\n",
    "import threading\n",
    "def run_server():\n",
    "    uvicorn.run(app, host=\"127.0.0.1\", port=8000)\n",
    "\n",
    "# Start the server in a background thread\n",
    "server_thread = threading.Thread(target=run_server)\n",
    "server_thread.start()\n"
   ]
  },
  {
   "cell_type": "code",
   "execution_count": null,
   "id": "ecf0630c-bdf6-474a-8020-c61ffb52b3b6",
   "metadata": {},
   "outputs": [
    {
     "name": "stderr",
     "output_type": "stream",
     "text": [
      "INFO:     Started server process [17308]\n",
      "INFO:     Waiting for application startup.\n",
      "INFO:     Application startup complete.\n",
      "INFO:     Uvicorn running on http://127.0.0.1:8000 (Press CTRL+C to quit)\n"
     ]
    },
    {
     "name": "stdout",
     "output_type": "stream",
     "text": [
      "INFO:     127.0.0.1:63146 - \"GET / HTTP/1.1\" 404 Not Found\n",
      "INFO:     127.0.0.1:63146 - \"GET / HTTP/1.1\" 404 Not Found\n",
      "INFO:     127.0.0.1:63146 - \"GET / HTTP/1.1\" 404 Not Found\n",
      "INFO:     127.0.0.1:63146 - \"GET / HTTP/1.1\" 404 Not Found\n",
      "INFO:     127.0.0.1:63146 - \"GET / HTTP/1.1\" 404 Not Found\n",
      "INFO:     127.0.0.1:63146 - \"GET / HTTP/1.1\" 404 Not Found\n",
      "INFO:     127.0.0.1:63146 - \"GET /predict HTTP/1.1\" 405 Method Not Allowed\n",
      "INFO:     127.0.0.1:63146 - \"GET /predict HTTP/1.1\" 405 Method Not Allowed\n",
      "INFO:     127.0.0.1:63146 - \"GET /predict HTTP/1.1\" 405 Method Not Allowed\n",
      "INFO:     127.0.0.1:63146 - \"GET /predict HTTP/1.1\" 405 Method Not Allowed\n",
      "INFO:     127.0.0.1:63146 - \"GET /predict HTTP/1.1\" 405 Method Not Allowed\n",
      "INFO:     127.0.0.1:63146 - \"GET /predict HTTP/1.1\" 405 Method Not Allowed\n",
      "INFO:     127.0.0.1:63146 - \"GET /predict HTTP/1.1\" 405 Method Not Allowed\n",
      "INFO:     127.0.0.1:63146 - \"GET /predict HTTP/1.1\" 405 Method Not Allowed\n",
      "INFO:     127.0.0.1:63146 - \"GET /predict HTTP/1.1\" 405 Method Not Allowed\n",
      "INFO:     127.0.0.1:63146 - \"GET /predict HTTP/1.1\" 405 Method Not Allowed\n",
      "INFO:     127.0.0.1:63146 - \"GET /predict HTTP/1.1\" 405 Method Not Allowed\n",
      "INFO:     127.0.0.1:63146 - \"GET /predict HTTP/1.1\" 405 Method Not Allowed\n",
      "INFO:     127.0.0.1:63157 - \"GET / HTTP/1.1\" 404 Not Found\n",
      "INFO:     127.0.0.1:63158 - \"GET /predict HTTP/1.1\" 405 Method Not Allowed\n",
      "INFO:     127.0.0.1:63196 - \"POST /predict HTTP/1.1\" 422 Unprocessable Entity\n",
      "INFO:     127.0.0.1:63197 - \"POST /predict HTTP/1.1\" 422 Unprocessable Entity\n",
      "INFO:     127.0.0.1:63205 - \"POST /predict HTTP/1.1\" 422 Unprocessable Entity\n",
      "INFO:     127.0.0.1:63159 - \"GET /predict HTTP/1.1\" 405 Method Not Allowed\n",
      "INFO:     127.0.0.1:63159 - \"GET /predict HTTP/1.1\" 405 Method Not Allowed\n",
      "INFO:     127.0.0.1:63159 - \"GET /predict HTTP/1.1\" 405 Method Not Allowed\n",
      "INFO:     127.0.0.1:63159 - \"GET /predict HTTP/1.1\" 405 Method Not Allowed\n",
      "INFO:     127.0.0.1:63159 - \"GET /predict HTTP/1.1\" 405 Method Not Allowed\n",
      "INFO:     127.0.0.1:63159 - \"GET /predict HTTP/1.1\" 405 Method Not Allowed\n",
      "INFO:     127.0.0.1:63159 - \"GET /predict HTTP/1.1\" 405 Method Not Allowed\n",
      "INFO:     127.0.0.1:63159 - \"GET /predict HTTP/1.1\" 405 Method Not Allowed\n",
      "INFO:     127.0.0.1:63159 - \"GET /predict HTTP/1.1\" 405 Method Not Allowed\n",
      "INFO:     127.0.0.1:63159 - \"GET /predict HTTP/1.1\" 405 Method Not Allowed\n",
      "INFO:     127.0.0.1:63159 - \"GET /predict HTTP/1.1\" 405 Method Not Allowed\n",
      "INFO:     127.0.0.1:63159 - \"GET /predict HTTP/1.1\" 405 Method Not Allowed\n",
      "INFO:     127.0.0.1:63159 - \"GET /predict HTTP/1.1\" 405 Method Not Allowed\n",
      "INFO:     127.0.0.1:63159 - \"GET /predict HTTP/1.1\" 405 Method Not Allowed\n",
      "INFO:     127.0.0.1:63159 - \"GET /predict HTTP/1.1\" 405 Method Not Allowed\n",
      "INFO:     127.0.0.1:63159 - \"GET /predict HTTP/1.1\" 405 Method Not Allowed\n",
      "INFO:     127.0.0.1:63159 - \"GET /predict HTTP/1.1\" 405 Method Not Allowed\n",
      "INFO:     127.0.0.1:63159 - \"GET /predict HTTP/1.1\" 405 Method Not Allowed\n",
      "INFO:     127.0.0.1:63159 - \"GET / HTTP/1.1\" 404 Not Found\n",
      "INFO:     127.0.0.1:63159 - \"GET / HTTP/1.1\" 404 Not Found\n",
      "INFO:     127.0.0.1:63216 - \"POST /predict HTTP/1.1\" 422 Unprocessable Entity\n",
      "INFO:     127.0.0.1:63226 - \"GET /predict HTTP/1.1\" 405 Method Not Allowed\n"
     ]
    }
   ],
   "source": [
    "# Define the payload\n",
    "payload = {\n",
    "    \"origin\": 5,\n",
    "    \"destination\": 8,\n",
    "    \"vehicle_type\": 2,\n",
    "    \"distance\": 1200,\n",
    "    \"weather_conditions\": 0,\n",
    "    \"traffic_conditions\": 1,\n",
    "    \"planned_duration\": 5,\n",
    "    \"actual_duration\": 6\n",
    "}\n",
    "\n",
    "# Send a POST request\n",
    "url = \"http://127.0.0.1:8000/predict\"\n",
    "response = requests.post(url, json=payload)\n",
    "\n",
    "# Print the response\n",
    "print(response.status_code)  # Check the HTTP status code\n",
    "print(response.json())  # Check the response JSON\n"
   ]
  },
  {
   "cell_type": "code",
   "execution_count": 28,
   "id": "690bdfe0-8d37-4de2-aa6b-b09de77c1710",
   "metadata": {},
   "outputs": [
    {
     "name": "stderr",
     "output_type": "stream",
     "text": [
      "Task exception was never retrieved\n",
      "future: <Task finished name='Task-180' coro=<Server.serve() done, defined at C:\\Users\\nixon\\anaconda3\\Lib\\site-packages\\uvicorn\\server.py:68> exception=SystemExit(1)>\n",
      "Traceback (most recent call last):\n",
      "  File \"C:\\Users\\nixon\\anaconda3\\Lib\\site-packages\\uvicorn\\server.py\", line 163, in startup\n",
      "    server = await loop.create_server(\n",
      "             ^^^^^^^^^^^^^^^^^^^^^^^^^\n",
      "  File \"C:\\Users\\nixon\\anaconda3\\Lib\\asyncio\\base_events.py\", line 1525, in create_server\n",
      "    raise OSError(err.errno, 'error while attempting '\n",
      "OSError: [Errno 10048] error while attempting to bind on address ('127.0.0.1', 8000): only one usage of each socket address (protocol/network address/port) is normally permitted\n",
      "\n",
      "During handling of the above exception, another exception occurred:\n",
      "\n",
      "Traceback (most recent call last):\n",
      "  File \"C:\\Users\\nixon\\anaconda3\\Lib\\threading.py\", line 1045, in _bootstrap_inner\n",
      "    self.run()\n",
      "  File \"C:\\Users\\nixon\\anaconda3\\Lib\\threading.py\", line 982, in run\n",
      "    self._target(*self._args, **self._kwargs)\n",
      "  File \"C:\\Users\\nixon\\AppData\\Local\\Temp\\ipykernel_17308\\2489221134.py\", line 36, in run_server\n",
      "    uvicorn.run(app, host=\"127.0.0.1\", port=8000)\n",
      "  File \"C:\\Users\\nixon\\anaconda3\\Lib\\site-packages\\uvicorn\\main.py\", line 579, in run\n",
      "    server.run()\n",
      "  File \"C:\\Users\\nixon\\anaconda3\\Lib\\site-packages\\uvicorn\\server.py\", line 66, in run\n",
      "    return asyncio.run(self.serve(sockets=sockets))\n",
      "           ^^^^^^^^^^^^^^^^^^^^^^^^^^^^^^^^^^^^^^^^\n",
      "  File \"C:\\Users\\nixon\\anaconda3\\Lib\\site-packages\\nest_asyncio.py\", line 30, in run\n",
      "    return loop.run_until_complete(task)\n",
      "           ^^^^^^^^^^^^^^^^^^^^^^^^^^^^^\n",
      "  File \"C:\\Users\\nixon\\anaconda3\\Lib\\site-packages\\nest_asyncio.py\", line 92, in run_until_complete\n",
      "    self._run_once()\n",
      "  File \"C:\\Users\\nixon\\anaconda3\\Lib\\site-packages\\nest_asyncio.py\", line 133, in _run_once\n",
      "    handle._run()\n",
      "  File \"C:\\Users\\nixon\\anaconda3\\Lib\\asyncio\\events.py\", line 80, in _run\n",
      "    self._context.run(self._callback, *self._args)\n",
      "  File \"C:\\Users\\nixon\\anaconda3\\Lib\\asyncio\\tasks.py\", line 360, in __wakeup\n",
      "    self.__step()\n",
      "  File \"C:\\Users\\nixon\\anaconda3\\Lib\\asyncio\\tasks.py\", line 277, in __step\n",
      "    result = coro.send(None)\n",
      "             ^^^^^^^^^^^^^^^\n",
      "  File \"C:\\Users\\nixon\\anaconda3\\Lib\\site-packages\\uvicorn\\server.py\", line 70, in serve\n",
      "    await self._serve(sockets)\n",
      "  File \"C:\\Users\\nixon\\anaconda3\\Lib\\site-packages\\uvicorn\\server.py\", line 85, in _serve\n",
      "    await self.startup(sockets=sockets)\n",
      "  File \"C:\\Users\\nixon\\anaconda3\\Lib\\site-packages\\uvicorn\\server.py\", line 173, in startup\n",
      "    sys.exit(1)\n",
      "SystemExit: 1\n"
     ]
    },
    {
     "name": "stdout",
     "output_type": "stream",
     "text": [
      "INFO:     127.0.0.1:63327 - \"POST /predict HTTP/1.1\" 200 OK\n",
      "{'estimated_duration': 5.5}\n"
     ]
    }
   ],
   "source": [
    "import requests\n",
    "\n",
    "url = \"http://127.0.0.1:8000/predict\"\n",
    "payload = {\n",
    "    \"origin\": 5,\n",
    "    \"destination\": 8,\n",
    "    \"vehicle_type\": 2,\n",
    "    \"distance\": 1200,\n",
    "    \"weather_conditions\": 0,\n",
    "    \"traffic_conditions\": 1,\n",
    "    \"planned_duration\": 5,\n",
    "    \"actual_duration\": 6\n",
    "}\n",
    "\n",
    "response = requests.post(url, json=payload)\n",
    "print(response.json())\n"
   ]
  },
  {
   "cell_type": "code",
   "execution_count": null,
   "id": "f937e37e-5045-4be1-b719-ed9c63f3f177",
   "metadata": {},
   "outputs": [],
   "source": []
  },
  {
   "cell_type": "code",
   "execution_count": null,
   "id": "f6caffa6-6950-4cc8-b8b4-54fa21a0f77e",
   "metadata": {},
   "outputs": [],
   "source": []
  }
 ],
 "metadata": {
  "kernelspec": {
   "display_name": "Python 3 (ipykernel)",
   "language": "python",
   "name": "python3"
  },
  "language_info": {
   "codemirror_mode": {
    "name": "ipython",
    "version": 3
   },
   "file_extension": ".py",
   "mimetype": "text/x-python",
   "name": "python",
   "nbconvert_exporter": "python",
   "pygments_lexer": "ipython3",
   "version": "3.11.7"
  }
 },
 "nbformat": 4,
 "nbformat_minor": 5
}
